{
 "cells": [
  {
   "cell_type": "markdown",
   "id": "2dc6dbca",
   "metadata": {},
   "source": [
    "### Q1. What is an API? Give an example, where an API is used in real life."
   ]
  },
  {
   "cell_type": "markdown",
   "id": "40e34648",
   "metadata": {},
   "source": [
    "-  An API, which stands for Application Programming Interface, is a set of protocols, routines, and tools that allow different software applications to communicate and interact with each other.\n",
    "\n",
    "- Uber: The Uber app uses the Google Maps API to display maps, provide real-time location tracking, and calculate routes for their ride-sharing service."
   ]
  },
  {
   "cell_type": "markdown",
   "id": "bedc08d6",
   "metadata": {},
   "source": [
    "### Q2. Give advantages and disadvantages of using API."
   ]
  },
  {
   "cell_type": "markdown",
   "id": "56f7fb82",
   "metadata": {},
   "source": [
    "- Advantage Of Api are as follows -\n",
    "\n",
    "i ) Efficiency\n",
    "ii ) Scalability\n",
    "iii ) Innovation\n",
    "iv ) Specialization\n",
    "v ) Standardization\n",
    "\n",
    "- Disadvantages of using APIs --\n",
    "i ) Dependence\n",
    "ii ) Security Concerns\n",
    "iii ) Performance Bottlenecks\n",
    "iv ) Costs\n",
    "v ) Limited Customization\n"
   ]
  },
  {
   "cell_type": "markdown",
   "id": "e8ff3d67",
   "metadata": {},
   "source": [
    "### Q3. What is a Web API? Differentiate between API and Web API."
   ]
  },
  {
   "cell_type": "markdown",
   "id": "a68edb66",
   "metadata": {},
   "source": [
    "- API (Application Programming Interface): An API, or Application Programming Interface, is a broader concept that encompasses any set of rules and protocols that allows different software components or systems to communicate with each other. APIs can be used for various purposes, including accessing hardware functionality, interacting with databases, or integrating with external services. APIs can be used in various contexts, not just on the web.\n",
    "\n",
    "-----------------------------------------------\n",
    "\n",
    "\n",
    "- Web API (Web Application Programming Interface): A Web API specifically refers to an API that is designed to be used over the web, allowing interaction between different software systems via HTTP (Hypertext Transfer Protocol) requests and responses. Web APIs are commonly used to enable communication between web servers and clients, making them a crucial component of modern web applications."
   ]
  },
  {
   "cell_type": "markdown",
   "id": "6164ca86",
   "metadata": {},
   "source": [
    "### Q4. Explain REST and SOAP Architecture. Mention shortcomings of SOAP."
   ]
  },
  {
   "cell_type": "markdown",
   "id": "cded7be4",
   "metadata": {},
   "source": [
    "- REST (Representational State Transfer):\n",
    "REST is an architectural style for designing networked applications. It is commonly used in the context of web services and is characterized by its simplicity and scalability.\n",
    "\n",
    "\n",
    "\n",
    "\n",
    "\n",
    "\n",
    "\n",
    "\n",
    "\n",
    "\n",
    "\n",
    "\n",
    "- SOAP (Simple Object Access Protocol):\n",
    "SOAP is a protocol for exchanging structured information in the implementation of web services. It's a more rigid and complex protocol compared to REST, often used in enterprise scenarios where strong security and reliability are required\n",
    "\n",
    "\n",
    "\n",
    "- Shortcomings of SOAP :\n",
    "i ) Complexity\n",
    "ii ) Performance\n",
    "iii ) Overhead\n",
    "iv ) Less Human-Readable\n",
    "v) Limited Browser Support "
   ]
  },
  {
   "cell_type": "markdown",
   "id": "c00a8413",
   "metadata": {},
   "source": [
    "### Q5. Differentiate between REST and SOAP."
   ]
  },
  {
   "cell_type": "markdown",
   "id": "2937d41f",
   "metadata": {},
   "source": [
    "-  Protocol Type:\n",
    "REST: REST is an architectural style or set of principles for designing networked applications, especially web services, based on the principles of HTTP and other web standards.\n",
    "SOAP: SOAP is a protocol, specifically designed for exchanging structured information in the implementation of web services."
   ]
  }
 ],
 "metadata": {
  "kernelspec": {
   "display_name": "Python 3 (ipykernel)",
   "language": "python",
   "name": "python3"
  },
  "language_info": {
   "codemirror_mode": {
    "name": "ipython",
    "version": 3
   },
   "file_extension": ".py",
   "mimetype": "text/x-python",
   "name": "python",
   "nbconvert_exporter": "python",
   "pygments_lexer": "ipython3",
   "version": "3.11.4"
  }
 },
 "nbformat": 4,
 "nbformat_minor": 5
}
